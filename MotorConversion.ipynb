{
 "cells": [
  {
   "cell_type": "code",
   "execution_count": 6,
   "metadata": {},
   "outputs": [
    {
     "name": "stdout",
     "output_type": "stream",
     "text": [
      "Welcome to JupyROOT 6.12/06\n"
     ]
    }
   ],
   "source": [
    "import numpy as np\n",
    "import ROOT as rt"
   ]
  },
  {
   "cell_type": "code",
   "execution_count": 2,
   "metadata": {},
   "outputs": [],
   "source": [
    "msmnt = np.array([[0,4.230],[500000,5.115],[1500000,6.535], [2.5e6, 8.119], [3.5e6, 9.655], [4.5e6,11.195]])"
   ]
  },
  {
   "cell_type": "code",
   "execution_count": 3,
   "metadata": {},
   "outputs": [
    {
     "data": {
      "text/plain": [
       "array([[0.0000e+00, 4.2300e+00],\n",
       "       [5.0000e+05, 5.1150e+00],\n",
       "       [1.5000e+06, 6.5350e+00],\n",
       "       [2.5000e+06, 8.1190e+00],\n",
       "       [3.5000e+06, 9.6550e+00],\n",
       "       [4.5000e+06, 1.1195e+01]])"
      ]
     },
     "execution_count": 3,
     "metadata": {},
     "output_type": "execute_result"
    }
   ],
   "source": [
    "msmnt"
   ]
  },
  {
   "cell_type": "code",
   "execution_count": 4,
   "metadata": {},
   "outputs": [
    {
     "data": {
      "text/plain": [
       "array([1.53810959e-06, 4.27043836e+00])"
      ]
     },
     "execution_count": 4,
     "metadata": {},
     "output_type": "execute_result"
    }
   ],
   "source": [
    "np.polyfit(msmnt[:, 0], msmnt[:, 1], 1)"
   ]
  },
  {
   "cell_type": "code",
   "execution_count": 5,
   "metadata": {},
   "outputs": [
    {
     "data": {
      "text/plain": [
       "3.9683227422e-07"
      ]
     },
     "execution_count": 5,
     "metadata": {},
     "output_type": "execute_result"
    }
   ],
   "source": [
    "1.53810959e-06 * 2.58 / 10."
   ]
  },
  {
   "cell_type": "code",
   "execution_count": 13,
   "metadata": {},
   "outputs": [
    {
     "name": "stdout",
     "output_type": "stream",
     "text": [
      "[109.134  131.967  168.603  209.4702 249.099  288.831 ]\n",
      "\n",
      "****************************************\n",
      "Minimizer is Linear\n",
      "Chi2                      =      6.10602\n",
      "NDf                       =            4\n",
      "p0                        =      110.177   +/-   0.830701    \n",
      "p1                        =  3.96832e-05   +/-   3.16817e-07 \n"
     ]
    },
    {
     "name": "stderr",
     "output_type": "stream",
     "text": [
      "Warning in <TCanvas::Constructor>: Deleting canvas with same name: c\n"
     ]
    },
    {
     "data": {
      "image/png": "[encoded data removed]",
      "text/plain": [
       "<IPython.core.display.Image object>"
      ]
     },
     "metadata": {},
     "output_type": "display_data"
    }
   ],
   "source": [
    "x = msmnt[:, 0]\n",
    "y = msmnt[:, 1] * 25.8\n",
    "gr = rt.TGraph(msmnt.shape[0])\n",
    "for i in range (msmnt.shape[0]):\n",
    "    gr.SetPoint(i, x[i], y[i])\n",
    "c = rt.TCanvas('c', 'c', 800,600)\n",
    "\n",
    "gr.Fit('pol1')\n",
    "\n",
    "gr.Draw('AP*')\n",
    "gr.GetXaxis().SetTitle( 'steps' )\n",
    "gr.GetYaxis().SetTitle( 'distance[mm]' )\n",
    "c.Draw()"
   ]
  },
  {
   "cell_type": "code",
   "execution_count": null,
   "metadata": {},
   "outputs": [],
   "source": []
  }
 ],
 "metadata": {
  "kernelspec": {
   "display_name": "Python 2",
   "language": "python",
   "name": "python2"
  },
  "language_info": {
   "codemirror_mode": {
    "name": "ipython",
    "version": 2
   },
   "file_extension": ".py",
   "mimetype": "text/x-python",
   "name": "python",
   "nbconvert_exporter": "python",
   "pygments_lexer": "ipython2",
   "version": "2.7.14"
  }
 },
 "nbformat": 4,
 "nbformat_minor": 2
}
